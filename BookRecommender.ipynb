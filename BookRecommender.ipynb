{
 "cells": [
  {
   "cell_type": "code",
   "execution_count": 872,
   "metadata": {},
   "outputs": [],
   "source": [
    "import pandas as pd\n",
    "import matplotlib.pyplot as plt\n",
    "import numpy as np\n",
    "import sklearn as sk\n",
    "from sklearn.neighbors import NearestNeighbors\n",
    "from scipy.spatial.distance import correlation, cosine\n",
    "import random"
   ]
  },
  {
   "cell_type": "code",
   "execution_count": 873,
   "metadata": {},
   "outputs": [
    {
     "name": "stderr",
     "output_type": "stream",
     "text": [
      "b'Skipping line 6452: expected 8 fields, saw 9\\nSkipping line 43667: expected 8 fields, saw 10\\nSkipping line 51751: expected 8 fields, saw 9\\n'\n",
      "b'Skipping line 92038: expected 8 fields, saw 9\\nSkipping line 104319: expected 8 fields, saw 9\\nSkipping line 121768: expected 8 fields, saw 9\\n'\n",
      "b'Skipping line 144058: expected 8 fields, saw 9\\nSkipping line 150789: expected 8 fields, saw 9\\nSkipping line 157128: expected 8 fields, saw 9\\nSkipping line 180189: expected 8 fields, saw 9\\nSkipping line 185738: expected 8 fields, saw 9\\n'\n",
      "b'Skipping line 209388: expected 8 fields, saw 9\\nSkipping line 220626: expected 8 fields, saw 9\\nSkipping line 227933: expected 8 fields, saw 11\\nSkipping line 228957: expected 8 fields, saw 10\\nSkipping line 245933: expected 8 fields, saw 9\\nSkipping line 251296: expected 8 fields, saw 9\\nSkipping line 259941: expected 8 fields, saw 9\\nSkipping line 261529: expected 8 fields, saw 9\\n'\n",
      "/Users/jneilcottle/anaconda3/lib/python3.7/site-packages/IPython/core/interactiveshell.py:3058: DtypeWarning: Columns (3) have mixed types.Specify dtype option on import or set low_memory=False.\n",
      "  interactivity=interactivity, compiler=compiler, result=result)\n"
     ]
    }
   ],
   "source": [
    "books = pd.read_csv('BX-CSV-Dump/BX-Books.csv', sep=';', error_bad_lines = False, encoding='latin-1')\n",
    "books.drop(['Image-URL-S', 'Image-URL-M', 'Image-URL-L', 'Publisher', 'Year-Of-Publication'], axis=1, inplace=True)\n",
    "ratings = pd.read_csv('BX-CSV-Dump/BX-Book-Ratings.csv', sep=';', error_bad_lines = False, encoding='latin-1')\n",
    "users = pd.read_csv('BX-CSV-Dump/BX-Users.csv', sep=';', error_bad_lines = False, encoding='latin-1')\n",
    "users.drop(['Location'], axis = 1, inplace=True)"
   ]
  },
  {
   "cell_type": "markdown",
   "metadata": {},
   "source": [
    "Clean up data; do we have ratings for books that are not in the book data? Which rating system will we use (implict, explict)? Are there Nans?"
   ]
  },
  {
   "cell_type": "code",
   "execution_count": 874,
   "metadata": {},
   "outputs": [],
   "source": [
    "def cleanRatings(allratings, books):\n",
    "    ratings_allbooks = allratings[allratings['ISBN'].isin(books['ISBN'])]\n",
    "    ratings_implicit = ratings_allbooks[ratings_allbooks[\"Book-Rating\"] == 0]\n",
    "    ratings_explicit = ratings_allbooks[ratings_allbooks[\"Book-Rating\"] != 0]\n",
    "    \n",
    "    ratings_implicit[\"Book-Rating\"] = np.ones(len(ratings_implicit['Book-Rating']))\n",
    "    \n",
    "    return ratings_implicit, ratings_explicit"
   ]
  },
  {
   "cell_type": "markdown",
   "metadata": {},
   "source": [
    "Make the dataset smaller, we don't need users that have rated few books or books with few ratings"
   ]
  },
  {
   "cell_type": "markdown",
   "metadata": {},
   "source": [
    "Take only the books with more than 50 ratings and only the users who have rated at least 100 books"
   ]
  },
  {
   "cell_type": "code",
   "execution_count": 875,
   "metadata": {},
   "outputs": [],
   "source": [
    "def reduceRates(rates, userLimit, bookLimit):\n",
    "    count_users = rates['User-ID'].value_counts()\n",
    "    count_books= rates['ISBN'].value_counts()\n",
    "    \n",
    "    fig, ax = plt.subplots(1,2)\n",
    "    ax[0].hist(count_users.values, bins = int(np.max(count_users.values)/100))\n",
    "    ax[0].set_yscale('log')\n",
    "    ax[0].set_xlim(0, 3000)\n",
    "    ax[0].plot([userLimit, userLimit],[1, 60000], linestyle = 'dashed', color = 'red')\n",
    "    ax[0].set_title('Ratings by Users')\n",
    "    ax[0].set_xlabel('Ratings')\n",
    "    ax[0].set_ylabel('Number of Users')\n",
    "\n",
    "    ax[1].hist(count_books.values, bins = int(np.max(count_books.values)/50))\n",
    "    ax[1].set_yscale('log')\n",
    "    ax[1].set_xlim(0, 1000)\n",
    "    ax[1].plot([bookLimit, bookLimit],[1, 60000], linestyle = 'dashed', color = 'red')\n",
    "    ax[1].set_title('Ratings by Books')\n",
    "    ax[1].set_xlabel('Ratings')\n",
    "    ax[1].set_ylabel('Number of Books')\n",
    "    \n",
    "    rates = rates[rates['User-ID'].isin(count_users[count_users >=userLimit].index)]\n",
    "    rates = rates[rates['ISBN'].isin(count_books[count_books >=bookLimit].index)]\n",
    "    \n",
    "    return rates"
   ]
  },
  {
   "cell_type": "code",
   "execution_count": 876,
   "metadata": {},
   "outputs": [],
   "source": [
    "def makeMatrix(rates):\n",
    "    rates = rates.pivot(index='User-ID', columns='ISBN', values='Book-Rating')\n",
    "    rates = rates.where(pd.notnull(rates), 0)\n",
    "    print('Matrix shape {}'.format(rates.shape))\n",
    "    return rates"
   ]
  },
  {
   "cell_type": "code",
   "execution_count": 877,
   "metadata": {},
   "outputs": [],
   "source": [
    "def findBooks(user_inds):\n",
    "    books = np.zeros(ratings_matrix.iloc[0, :].values.shape)\n",
    "    for ids in user_inds:\n",
    "        user_vec = ratings_matrix.iloc[ids, :].values\n",
    "        books = books + user_vec\n",
    "    \n",
    "    books = pd.Series(books)\n",
    "    books = books.sort_values(ascending=False)\n",
    "    top100 = books[:100]\n",
    "    bookIds = []\n",
    "    bookValues = []\n",
    "    for i, ind in enumerate(top100.index):\n",
    "        bookIds.append(ratings_matrix.columns[ind])\n",
    "        bookValues.append(top100.values[i])\n",
    "    return bookIds, bookValues"
   ]
  },
  {
   "cell_type": "code",
   "execution_count": 878,
   "metadata": {},
   "outputs": [],
   "source": [
    "#find the mean rating for a given user, only looking at book which they've rated\n",
    "def calcMean(user_loc):\n",
    "    user_ratings = ratings_matrix.iloc[user_loc, :]\n",
    "    #select only where rating != 0\n",
    "    user_ratings = user_ratings[user_ratings != 0]\n",
    "    \n",
    "    mean = np.sum(user_ratings)/len(user_ratings)\n",
    "    return mean\n",
    "\n",
    "def findTitle(isbn):\n",
    "    p = books.set_index('ISBN').index.get_loc(isbn)\n",
    "    return books['Book-Title'][p]"
   ]
  },
  {
   "cell_type": "code",
   "execution_count": 919,
   "metadata": {},
   "outputs": [],
   "source": [
    "#predict rating for a specific item/user\n",
    "def predict_rating_explicit(user_loc, item_loc, sim_user_ind, sims, matrix):\n",
    "    mean_rating_user = calcMean(user_loc)\n",
    "    sim_sum = np.sum(sims)\n",
    "    rate_sum = 0\n",
    "    #loop through similar users\n",
    "    for i, sim_user in enumerate(sim_user_ind):        \n",
    "        product = matrix.iloc[sim_user, item_loc]*sims[i]\n",
    "        rate_sum=rate_sum+product\n",
    "\n",
    "    prediction = (rate_sum/sim_sum)\n",
    "    return prediction\n",
    "\n",
    "#predict rating for a specific item/user\n",
    "def predict_rating_implicit(user_loc, item_loc, sim_user_ind, sims, bookvalue):\n",
    "    mean_rating_user = calcMean(user_loc)\n",
    "    sim_sum = np.sum(sims)\n",
    "    rate_sum = 0\n",
    "    #loop through similar users\n",
    "    for i, sim_user in enumerate(sim_user_ind):        \n",
    "        product= matrix.iloc[sim_user, item_loc]*sims[i]  #weight rating by similarity\n",
    "        rate_sum=rate_sum+product\n",
    "\n",
    "    prediction = (rate_sum/sim_sum)\n",
    "    return prediction"
   ]
  },
  {
   "cell_type": "code",
   "execution_count": 934,
   "metadata": {},
   "outputs": [],
   "source": [
    "#find the most likely to be read over all books\n",
    "def recommendbook(user_id, ratings_matrix, rateType):\n",
    "    if rateType != 'imp' and rateType != 'exp':\n",
    "        print('Unknown rating type!')\n",
    "        return\n",
    "        \n",
    "    knn_model = NearestNeighbors(metric = 'cosine', algorithm = 'brute')\n",
    "    knn_model.fit(ratings_matrix)\n",
    "    \n",
    "    user_loc = ratings_matrix.index.get_loc(user_id)\n",
    "    user_vec = ratings_matrix.iloc[user_loc, :].values.reshape(1, -1)\n",
    "    \n",
    "    #find similar users\n",
    "    dist, indices = knn_model.kneighbors(user_vec, n_neighbors= 4)\n",
    "    \n",
    "    #ignore the first item, it is the original user\n",
    "    sims = 1-dist.flatten()[1:] #most similar is closest to 1\n",
    "    sim_user_ind = indices.flatten()[1:]\n",
    "    print(sims)\n",
    "    \n",
    "    #list books similar users have read\n",
    "    simUserBooks, bookValues = findBooks(sim_user_ind)\n",
    "    \n",
    "    predictions = []\n",
    "    for i, book in enumerate(simUserBooks):\n",
    "        item_loc = ratings_matrix.columns.get_loc(book)\n",
    "        if (ratings_matrix.iloc[user_loc, item_loc] == 0):\n",
    "            if rateType == 'imp':\n",
    "                predictions.append((predict_rating_implicit(user_loc, item_loc, sim_user_ind, sims, bookValues[i], ratings_matrix), book))\n",
    "            else:  \n",
    "                predictions.append((predict_rating_explicit(user_loc, item_loc, sim_user_ind, sims, ratings_matrix), book))\n",
    "        else:\n",
    "            predictions.append((-1, book)) #already read\n",
    "    \n",
    "    predictions = pd.Series(predictions)\n",
    "    predictions = predictions.sort_values(ascending=False)\n",
    "    recommend = predictions[:10]\n",
    "\n",
    "    for i, (rate, book) in enumerate(recommend):\n",
    "        bookTitle = findTitle(book)\n",
    "        print(\"{} {} (expected rating {:0.2f})\".format(i+1, bookTitle, rate))\n",
    "        \n",
    "    return recommend"
   ]
  },
  {
   "cell_type": "markdown",
   "metadata": {},
   "source": [
    "## Time to put the recommender to use!"
   ]
  },
  {
   "cell_type": "code",
   "execution_count": 957,
   "metadata": {},
   "outputs": [
    {
     "name": "stderr",
     "output_type": "stream",
     "text": [
      "/Users/jneilcottle/anaconda3/lib/python3.7/site-packages/ipykernel_launcher.py:6: SettingWithCopyWarning: \n",
      "A value is trying to be set on a copy of a slice from a DataFrame.\n",
      "Try using .loc[row_indexer,col_indexer] = value instead\n",
      "\n",
      "See the caveats in the documentation: https://pandas.pydata.org/pandas-docs/stable/user_guide/indexing.html#returning-a-view-versus-a-copy\n",
      "  \n"
     ]
    }
   ],
   "source": [
    "imp, exp = cleanRatings(ratings, books)"
   ]
  },
  {
   "cell_type": "markdown",
   "metadata": {},
   "source": [
    "Populatarity based recommendations; what books have been read the most? "
   ]
  },
  {
   "cell_type": "code",
   "execution_count": 958,
   "metadata": {},
   "outputs": [
    {
     "data": {
      "text/html": [
       "<div>\n",
       "<style scoped>\n",
       "    .dataframe tbody tr th:only-of-type {\n",
       "        vertical-align: middle;\n",
       "    }\n",
       "\n",
       "    .dataframe tbody tr th {\n",
       "        vertical-align: top;\n",
       "    }\n",
       "\n",
       "    .dataframe thead th {\n",
       "        text-align: right;\n",
       "    }\n",
       "</style>\n",
       "<table border=\"1\" class=\"dataframe\">\n",
       "  <thead>\n",
       "    <tr style=\"text-align: right;\">\n",
       "      <th></th>\n",
       "      <th>Book-Rating</th>\n",
       "      <th>ISBN</th>\n",
       "      <th>Book-Title</th>\n",
       "      <th>Book-Author</th>\n",
       "    </tr>\n",
       "  </thead>\n",
       "  <tbody>\n",
       "    <tr>\n",
       "      <th>26</th>\n",
       "      <td>1921.0</td>\n",
       "      <td>0971880107</td>\n",
       "      <td>Wild Animus</td>\n",
       "      <td>Rich Shapero</td>\n",
       "    </tr>\n",
       "    <tr>\n",
       "      <th>408</th>\n",
       "      <td>588.0</td>\n",
       "      <td>0316666343</td>\n",
       "      <td>The Lovely Bones: A Novel</td>\n",
       "      <td>Alice Sebold</td>\n",
       "    </tr>\n",
       "    <tr>\n",
       "      <th>1105</th>\n",
       "      <td>412.0</td>\n",
       "      <td>0060928336</td>\n",
       "      <td>Divine Secrets of the Ya-Ya Sisterhood: A Novel</td>\n",
       "      <td>Rebecca Wells</td>\n",
       "    </tr>\n",
       "    <tr>\n",
       "      <th>748</th>\n",
       "      <td>396.0</td>\n",
       "      <td>0385504209</td>\n",
       "      <td>The Da Vinci Code</td>\n",
       "      <td>Dan Brown</td>\n",
       "    </tr>\n",
       "    <tr>\n",
       "      <th>305</th>\n",
       "      <td>366.0</td>\n",
       "      <td>044023722X</td>\n",
       "      <td>A Painted House</td>\n",
       "      <td>John Grisham</td>\n",
       "    </tr>\n",
       "    <tr>\n",
       "      <th>1922</th>\n",
       "      <td>358.0</td>\n",
       "      <td>067976402X</td>\n",
       "      <td>Snow Falling on Cedars</td>\n",
       "      <td>David Guterson</td>\n",
       "    </tr>\n",
       "    <tr>\n",
       "      <th>2445</th>\n",
       "      <td>349.0</td>\n",
       "      <td>0440214041</td>\n",
       "      <td>The Pelican Brief</td>\n",
       "      <td>John Grisham</td>\n",
       "    </tr>\n",
       "    <tr>\n",
       "      <th>522</th>\n",
       "      <td>340.0</td>\n",
       "      <td>0312195516</td>\n",
       "      <td>The Red Tent (Bestselling Backlist)</td>\n",
       "      <td>Anita Diamant</td>\n",
       "    </tr>\n",
       "    <tr>\n",
       "      <th>67</th>\n",
       "      <td>325.0</td>\n",
       "      <td>0804106304</td>\n",
       "      <td>The Joy Luck Club</td>\n",
       "      <td>Amy Tan</td>\n",
       "    </tr>\n",
       "    <tr>\n",
       "      <th>4430</th>\n",
       "      <td>323.0</td>\n",
       "      <td>0375727345</td>\n",
       "      <td>House of Sand and Fog</td>\n",
       "      <td>Andre Dubus III</td>\n",
       "    </tr>\n",
       "  </tbody>\n",
       "</table>\n",
       "</div>"
      ],
      "text/plain": [
       "      Book-Rating        ISBN  \\\n",
       "26         1921.0  0971880107   \n",
       "408         588.0  0316666343   \n",
       "1105        412.0  0060928336   \n",
       "748         396.0  0385504209   \n",
       "305         366.0  044023722X   \n",
       "1922        358.0  067976402X   \n",
       "2445        349.0  0440214041   \n",
       "522         340.0  0312195516   \n",
       "67          325.0  0804106304   \n",
       "4430        323.0  0375727345   \n",
       "\n",
       "                                           Book-Title      Book-Author  \n",
       "26                                        Wild Animus     Rich Shapero  \n",
       "408                         The Lovely Bones: A Novel     Alice Sebold  \n",
       "1105  Divine Secrets of the Ya-Ya Sisterhood: A Novel    Rebecca Wells  \n",
       "748                                 The Da Vinci Code        Dan Brown  \n",
       "305                                   A Painted House     John Grisham  \n",
       "1922                           Snow Falling on Cedars   David Guterson  \n",
       "2445                                The Pelican Brief     John Grisham  \n",
       "522               The Red Tent (Bestselling Backlist)    Anita Diamant  \n",
       "67                                  The Joy Luck Club          Amy Tan  \n",
       "4430                            House of Sand and Fog  Andre Dubus III  "
      ]
     },
     "execution_count": 958,
     "metadata": {},
     "output_type": "execute_result"
    }
   ],
   "source": [
    "ratings_pop = pd.DataFrame(imp.groupby(['ISBN'])['Book-Rating'].sum())\n",
    "top10 = ratings_pop.sort_values('Book-Rating', ascending=False).head(10)\n",
    "top10.merge(books, left_index=True, right_on = 'ISBN')"
   ]
  },
  {
   "cell_type": "code",
   "execution_count": 959,
   "metadata": {},
   "outputs": [
    {
     "data": {
      "image/png": "[encoded data removed]",
      "text/plain": [
       "<Figure size 432x288 with 2 Axes>"
      ]
     },
     "metadata": {
      "needs_background": "light"
     },
     "output_type": "display_data"
    },
    {
     "data": {
      "image/png": "[encoded data removed]",
      "text/plain": [
       "<Figure size 432x288 with 2 Axes>"
      ]
     },
     "metadata": {
      "needs_background": "light"
     },
     "output_type": "display_data"
    }
   ],
   "source": [
    "imp_small = reduceRates(imp, 100, 50)\n",
    "exp_small = reduceRates(exp, 100, 0)"
   ]
  },
  {
   "cell_type": "code",
   "execution_count": 960,
   "metadata": {},
   "outputs": [
    {
     "name": "stdout",
     "output_type": "stream",
     "text": [
      "Matrix shape (1071, 1073)\n",
      "Matrix shape (449, 66574)\n"
     ]
    }
   ],
   "source": [
    "ratings_matrix_imp = makeMatrix(imp_small)\n",
    "ratings_matrix_exp = makeMatrix(exp_small)"
   ]
  },
  {
   "cell_type": "code",
   "execution_count": 961,
   "metadata": {},
   "outputs": [
    {
     "name": "stdout",
     "output_type": "stream",
     "text": [
      "[0.08040819 0.07864546 0.07000724]\n",
      "1 The Pelican Brief (expected rating 5.22)\n",
      "2 Seven Up (A Stephanie Plum Novel) (expected rating 5.22)\n",
      "3 Family Album (expected rating 5.21)\n",
      "4 Ashes to Ashes (expected rating 4.99)\n",
      "5 Into Thin Air : A Personal Account of the Mt. Everest Disaster (expected rating 4.77)\n",
      "6 The Face of Deception (expected rating 3.51)\n",
      "7 House of Leaves (expected rating 3.06)\n",
      "8 Stupid White Men ...and Other Sorry Excuses for the State of the Nation! (expected rating 3.06)\n",
      "9 The Eight (expected rating 2.75)\n",
      "10 The Bean Trees (expected rating 2.75)\n"
     ]
    },
    {
     "data": {
      "text/plain": [
       "68     (5.219339210267965, 0440214041)\n",
       "47     (5.219339210267965, 0312980140)\n",
       "54     (5.211643739489319, 0440124344)\n",
       "8      (4.993070417683904, 0553579606)\n",
       "30     (4.772965318953389, 0385492081)\n",
       "20    (3.5103413566265567, 0553578022)\n",
       "74    (3.0562719945333368, 0375703764)\n",
       "72    (3.0562719945333368, 0060392452)\n",
       "38     (2.750644795080003, 0345366239)\n",
       "51     (2.750644795080003, 0061097314)\n",
       "dtype: object"
      ]
     },
     "execution_count": 961,
     "metadata": {},
     "output_type": "execute_result"
    }
   ],
   "source": [
    "recommendbook(11676, ratings_matrix_exp, 'exp')"
   ]
  },
  {
   "cell_type": "code",
   "execution_count": 962,
   "metadata": {},
   "outputs": [],
   "source": [
    "def printUserBooks(user_id):\n",
    "    user_loc = ratings_matrix.index.get_loc(user_id)\n",
    "    user_vec = ratings_matrix.iloc[user_loc, :].values.reshape(1, -1).flatten()\n",
    "    \n",
    "    bookList = []\n",
    "    for i, rate in enumerate(user_vec):\n",
    "        if rate == 1:\n",
    "            isbn = ratings_matrix.columns[i]\n",
    "            bookList.append(findTitle(isbn))\n",
    "    print(bookList)"
   ]
  },
  {
   "cell_type": "code",
   "execution_count": 950,
   "metadata": {},
   "outputs": [],
   "source": [
    "#for a given user,\n",
    "#remove 10 books, \n",
    "#then try to recommend books for that user\n",
    "#then check to see if any/all of those books where ones that were removed\n",
    "\n",
    "\n",
    "def testUser(user_id, ratings_matrix, rateType):\n",
    "    user_loc = ratings_matrix.index.get_loc(user_id)\n",
    "    user_vec = ratings_matrix.iloc[user_loc, :]\n",
    "    \n",
    "    #find where user_vec == 0; \n",
    "    ratedBooks = np.where(user_vec != 0)\n",
    "    print(len(ratedBooks[0]))\n",
    "    \n",
    "    #pick 10 at random to turn into 0\n",
    "    removed = np.random.choice(ratedBooks[0], 500, replace=False)\n",
    "    new_matrix = ratings_matrix.copy()\n",
    "    new_matrix.iloc[user_loc, removed] = 0\n",
    "    \n",
    "    #isbns of removed books\n",
    "    removedBooks = user_vec.index[removed]\n",
    "        \n",
    "    #recommend books\n",
    "    print('\\nRecommended Books:')\n",
    "    recommended = recommendbook(user_id, ratings_matrix, rateType)\n",
    "    \n",
    "    print('\\nLooking for removed books:')\n",
    "    \n",
    "    for i, (rate, book) in enumerate(recommended):\n",
    "        if book in removedBooks:\n",
    "            print('yay! found book: {}'.format(findTitle(book)))\n",
    "    "
   ]
  },
  {
   "cell_type": "code",
   "execution_count": 956,
   "metadata": {},
   "outputs": [
    {
     "name": "stdout",
     "output_type": "stream",
     "text": [
      "3403\n",
      "\n",
      "Recommended Books:\n",
      "[0.05720159 0.0508845  0.0489067 ]\n",
      "1 The Client (expected rating 7.75)\n",
      "2 The Pelican Brief (expected rating 7.74)\n",
      "3 Family Album (expected rating 5.10)\n",
      "4 The Face of Deception (expected rating 3.64)\n",
      "5 The Firm (expected rating 3.64)\n",
      "6 Message from Nam (expected rating 3.28)\n",
      "7 The True Confessions of Charlotte Doyle (rack) (expected rating 3.28)\n",
      "8 The Pilot's Wife : A Novel (expected rating 3.28)\n",
      "9 The Lovely Bones: A Novel (expected rating 3.12)\n",
      "10 The Dogs of Babel (Today Show Book Club #12) (expected rating 3.12)\n",
      "\n",
      "Looking for removed books:\n"
     ]
    }
   ],
   "source": [
    "testUser(11676, ratings_matrix_exp, 'exp')"
   ]
  },
  {
   "cell_type": "code",
   "execution_count": null,
   "metadata": {},
   "outputs": [],
   "source": []
  }
 ],
 "metadata": {
  "kernelspec": {
   "display_name": "Python 3",
   "language": "python",
   "name": "python3"
  },
  "language_info": {
   "codemirror_mode": {
    "name": "ipython",
    "version": 3
   },
   "file_extension": ".py",
   "mimetype": "text/x-python",
   "name": "python",
   "nbconvert_exporter": "python",
   "pygments_lexer": "ipython3",
   "version": "3.7.4"
  }
 },
 "nbformat": 4,
 "nbformat_minor": 2
}

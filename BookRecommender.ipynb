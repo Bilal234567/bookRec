{
 "cells": [
  {
   "cell_type": "code",
   "execution_count": 813,
   "metadata": {},
   "outputs": [],
   "source": [
    "import pandas as pd\n",
    "import matplotlib.pyplot as plt\n",
    "import numpy as np\n",
    "import sklearn as sk\n",
    "from sklearn.neighbors import NearestNeighbors\n",
    "from scipy.spatial.distance import correlation, cosine"
   ]
  },
  {
   "cell_type": "code",
   "execution_count": 814,
   "metadata": {},
   "outputs": [
    {
     "name": "stderr",
     "output_type": "stream",
     "text": [
      "b'Skipping line 6452: expected 8 fields, saw 9\\nSkipping line 43667: expected 8 fields, saw 10\\nSkipping line 51751: expected 8 fields, saw 9\\n'\n",
      "b'Skipping line 92038: expected 8 fields, saw 9\\nSkipping line 104319: expected 8 fields, saw 9\\nSkipping line 121768: expected 8 fields, saw 9\\n'\n",
      "b'Skipping line 144058: expected 8 fields, saw 9\\nSkipping line 150789: expected 8 fields, saw 9\\nSkipping line 157128: expected 8 fields, saw 9\\nSkipping line 180189: expected 8 fields, saw 9\\nSkipping line 185738: expected 8 fields, saw 9\\n'\n",
      "b'Skipping line 209388: expected 8 fields, saw 9\\nSkipping line 220626: expected 8 fields, saw 9\\nSkipping line 227933: expected 8 fields, saw 11\\nSkipping line 228957: expected 8 fields, saw 10\\nSkipping line 245933: expected 8 fields, saw 9\\nSkipping line 251296: expected 8 fields, saw 9\\nSkipping line 259941: expected 8 fields, saw 9\\nSkipping line 261529: expected 8 fields, saw 9\\n'\n",
      "/Users/jneilcottle/anaconda3/lib/python3.7/site-packages/IPython/core/interactiveshell.py:3058: DtypeWarning: Columns (3) have mixed types.Specify dtype option on import or set low_memory=False.\n",
      "  interactivity=interactivity, compiler=compiler, result=result)\n"
     ]
    }
   ],
   "source": [
    "books = pd.read_csv('BX-CSV-Dump/BX-Books.csv', sep=';', error_bad_lines = False, encoding='latin-1')\n",
    "books.drop(['Image-URL-S', 'Image-URL-M', 'Image-URL-L', 'Publisher', 'Year-Of-Publication'], axis=1, inplace=True)\n",
    "ratings = pd.read_csv('BX-CSV-Dump/BX-Book-Ratings.csv', sep=';', error_bad_lines = False, encoding='latin-1')\n",
    "users = pd.read_csv('BX-CSV-Dump/BX-Users.csv', sep=';', error_bad_lines = False, encoding='latin-1')\n",
    "users.drop(['Location'], axis = 1, inplace=True)"
   ]
  },
  {
   "cell_type": "markdown",
   "metadata": {},
   "source": [
    "Clean up data; do we have ratings for books that are not in the book data? Which rating system will we use (implict, explict)? Are there Nans?"
   ]
  },
  {
   "cell_type": "code",
   "execution_count": 815,
   "metadata": {},
   "outputs": [],
   "source": [
    "def cleanRatings(allratings, books):\n",
    "    ratings_allbooks = allratings[allratings['ISBN'].isin(books['ISBN'])]\n",
    "    ratings_implicit = ratings_allbooks[ratings_allbooks[\"Book-Rating\"] == 0]\n",
    "    ratings_explicit = ratings_allbooks[ratings_allbooks[\"Book-Rating\"] != 0]\n",
    "    \n",
    "    ratings_implicit[\"Book-Rating\"] = np.ones(len(ratings_implicit['Book-Rating']))\n",
    "    \n",
    "    return ratings_implicit, ratings_explicit"
   ]
  },
  {
   "cell_type": "markdown",
   "metadata": {},
   "source": [
    "Make the dataset smaller, we don't need users that have rated few books or books with few ratings"
   ]
  },
  {
   "cell_type": "markdown",
   "metadata": {},
   "source": [
    "Take only the books with more than 50 ratings and only the users who have rated at least 100 books"
   ]
  },
  {
   "cell_type": "code",
   "execution_count": 816,
   "metadata": {},
   "outputs": [],
   "source": [
    "def reduceRates(rates, userLimit, bookLimit):\n",
    "    count_users = rates['User-ID'].value_counts()\n",
    "    count_books= rates['ISBN'].value_counts()\n",
    "    \n",
    "    fig, ax = plt.subplots(1,2)\n",
    "    ax[0].hist(count_users.values, bins = int(np.max(count_users.values)/100))\n",
    "    ax[0].set_yscale('log')\n",
    "    ax[0].set_xlim(0, 3000)\n",
    "    ax[0].plot([userLimit, userLimit],[1, 60000], linestyle = 'dashed', color = 'red')\n",
    "    ax[0].set_title('Ratings by Users')\n",
    "    ax[0].set_xlabel('Ratings')\n",
    "    ax[0].set_ylabel('Number of Users')\n",
    "\n",
    "    ax[1].hist(count_books.values, bins = int(np.max(count_books.values)/50))\n",
    "    ax[1].set_yscale('log')\n",
    "    ax[1].set_xlim(0, 1000)\n",
    "    ax[1].plot([bookLimit, bookLimit],[1, 60000], linestyle = 'dashed', color = 'red')\n",
    "    ax[1].set_title('Ratings by Books')\n",
    "    ax[1].set_xlabel('Ratings')\n",
    "    ax[1].set_ylabel('Number of Books')\n",
    "    \n",
    "    rates = rates[rates['User-ID'].isin(count_users[count_users >=userLimit].index)]\n",
    "    rates = rates[rates['ISBN'].isin(count_books[count_books >=bookLimit].index)]\n",
    "    \n",
    "    return rates"
   ]
  },
  {
   "cell_type": "code",
   "execution_count": 817,
   "metadata": {},
   "outputs": [],
   "source": [
    "def makeMatrix(rates):\n",
    "    rates = rates.pivot(index='User-ID', columns='ISBN', values='Book-Rating')\n",
    "    rates = rates.where(pd.notnull(rates), 0)\n",
    "    print('Matrix shape {}'.format(rates.shape))\n",
    "    return rates"
   ]
  },
  {
   "cell_type": "code",
   "execution_count": 818,
   "metadata": {},
   "outputs": [],
   "source": [
    "def findBooks(user_inds):\n",
    "    books = np.zeros(ratings_matrix.iloc[0, :].values.shape)\n",
    "    for ids in user_inds:\n",
    "        user_vec = ratings_matrix.iloc[ids, :].values\n",
    "        books = books + user_vec\n",
    "    \n",
    "    books = pd.Series(books)\n",
    "    books = books.sort_values(ascending=False)\n",
    "    top100 = books[:100]\n",
    "    bookIds = []\n",
    "    bookValues = []\n",
    "    for i, ind in enumerate(top100.index):\n",
    "        bookIds.append(ratings_matrix.columns[ind])\n",
    "        bookValues.append(top100.values[i])\n",
    "    return bookIds, bookValues"
   ]
  },
  {
   "cell_type": "code",
   "execution_count": 828,
   "metadata": {},
   "outputs": [],
   "source": [
    "#find the mean rating for a given user, only looking at book which they've rated\n",
    "def calcMean(user_loc):\n",
    "    user_ratings = ratings_matrix.iloc[user_loc, :]\n",
    "    #select only where rating != 0\n",
    "    user_ratings = user_ratings[user_ratings != 0]\n",
    "    \n",
    "    mean = np.sum(user_ratings)/len(user_ratings)\n",
    "    return mean\n",
    "\n",
    "def findTitle(isbn):\n",
    "    p = books.set_index('ISBN').index.get_loc(isbn)\n",
    "    return books['Book-Title'][p]"
   ]
  },
  {
   "cell_type": "code",
   "execution_count": 829,
   "metadata": {},
   "outputs": [],
   "source": [
    "#predict rating for a specific item/user\n",
    "def predict_rating_explicit(user_loc, item_loc, sim_user_ind, sims):\n",
    "    mean_rating_user = calcMean(user_loc)\n",
    "    sim_sum = np.sum(sims)\n",
    "    rate_sum = 0\n",
    "    #loop through similar users\n",
    "    for i, sim_user in enumerate(sim_user_ind):        \n",
    "        product = ratings_matrix.iloc[sim_user, item_loc]*sims[i]\n",
    "        rate_sum=new_sum+product\n",
    "\n",
    "    prediction = (rate_sum/sim_sum)\n",
    "    return prediction\n",
    "\n",
    "#predict rating for a specific item/user\n",
    "def predict_rating_implicit(user_loc, item_loc, sim_user_ind, sims, bookvalue):\n",
    "    mean_rating_user = calcMean(user_loc)\n",
    "    sim_sum = np.sum(sims)\n",
    "    rate_sum = 0\n",
    "    #loop through similar users\n",
    "    for i, sim_user in enumerate(sim_user_ind):        \n",
    "        product= ratings_matrix.iloc[sim_user, item_loc]*sims[i]  #weight rating by similarity\n",
    "        rate_sum=rate_sum+product\n",
    "\n",
    "    prediction = (rate_sum/sim_sum)\n",
    "    return prediction"
   ]
  },
  {
   "cell_type": "code",
   "execution_count": 830,
   "metadata": {},
   "outputs": [],
   "source": [
    "#find the most likely to be read over all books\n",
    "def recommendbook(user_id, ratings_matrix):\n",
    "    knn_model = NearestNeighbors(metric = 'cosine', algorithm = 'brute')\n",
    "    knn_model.fit(ratings_matrix)\n",
    "    \n",
    "    user_loc = ratings_matrix.index.get_loc(user_id)\n",
    "    user_vec = ratings_matrix.iloc[user_loc, :].values.reshape(1, -1)\n",
    "    \n",
    "    #find similar users\n",
    "    dist, indices = knn_model.kneighbors(user_vec, n_neighbors= 7)\n",
    "    \n",
    "    #ignore the first item, it is the original user\n",
    "    sims = 1-dist.flatten()[1:] #most similar is closest to 1\n",
    "    sim_user_ind = indices.flatten()[1:]\n",
    "    print(sims)\n",
    "    \n",
    "    #list books similar users have read\n",
    "    simUserBooks, bookValues = findBooks(sim_user_ind)\n",
    "    \n",
    "    predictions = []\n",
    "    for i, book in enumerate(simUserBooks):\n",
    "        item_loc = ratings_matrix.columns.get_loc(book)\n",
    "        if (ratings_matrix.iloc[user_loc, item_loc] == 0):\n",
    "            #predictions.append((predict_rating_explicit(user_loc, item_loc, sim_user_ind, sims), book))\n",
    "            predictions.append((predict_rating_implicit(user_loc, item_loc, sim_user_ind, sims, bookValues[i]), book))\n",
    "        else:\n",
    "            predictions.append((-1, book)) #already read\n",
    "    \n",
    "    predictions = pd.Series(predictions)\n",
    "    predictions = predictions.sort_values(ascending=False)\n",
    "    recommend = predictions[:10]\n",
    "\n",
    "    for i, (rate, book) in enumerate(recommend):\n",
    "        bookTitle = findTitle(book)\n",
    "        print(\"{} {} (expected rating {:0.2f})\".format(i+1, bookTitle, rate))"
   ]
  },
  {
   "cell_type": "markdown",
   "metadata": {},
   "source": [
    "## Time to put the recommender to use!"
   ]
  },
  {
   "cell_type": "code",
   "execution_count": 831,
   "metadata": {},
   "outputs": [
    {
     "name": "stderr",
     "output_type": "stream",
     "text": [
      "/Users/jneilcottle/anaconda3/lib/python3.7/site-packages/ipykernel_launcher.py:6: SettingWithCopyWarning: \n",
      "A value is trying to be set on a copy of a slice from a DataFrame.\n",
      "Try using .loc[row_indexer,col_indexer] = value instead\n",
      "\n",
      "See the caveats in the documentation: https://pandas.pydata.org/pandas-docs/stable/user_guide/indexing.html#returning-a-view-versus-a-copy\n",
      "  \n"
     ]
    }
   ],
   "source": [
    "imp, exp = cleanRatings(ratings, books)"
   ]
  },
  {
   "cell_type": "markdown",
   "metadata": {},
   "source": [
    "Populatarity based recommendations; what books have been read the most? "
   ]
  },
  {
   "cell_type": "code",
   "execution_count": 832,
   "metadata": {},
   "outputs": [
    {
     "data": {
      "text/html": [
       "<div>\n",
       "<style scoped>\n",
       "    .dataframe tbody tr th:only-of-type {\n",
       "        vertical-align: middle;\n",
       "    }\n",
       "\n",
       "    .dataframe tbody tr th {\n",
       "        vertical-align: top;\n",
       "    }\n",
       "\n",
       "    .dataframe thead th {\n",
       "        text-align: right;\n",
       "    }\n",
       "</style>\n",
       "<table border=\"1\" class=\"dataframe\">\n",
       "  <thead>\n",
       "    <tr style=\"text-align: right;\">\n",
       "      <th></th>\n",
       "      <th>Book-Rating</th>\n",
       "      <th>ISBN</th>\n",
       "      <th>Book-Title</th>\n",
       "      <th>Book-Author</th>\n",
       "    </tr>\n",
       "  </thead>\n",
       "  <tbody>\n",
       "    <tr>\n",
       "      <th>26</th>\n",
       "      <td>1921.0</td>\n",
       "      <td>0971880107</td>\n",
       "      <td>Wild Animus</td>\n",
       "      <td>Rich Shapero</td>\n",
       "    </tr>\n",
       "    <tr>\n",
       "      <th>408</th>\n",
       "      <td>588.0</td>\n",
       "      <td>0316666343</td>\n",
       "      <td>The Lovely Bones: A Novel</td>\n",
       "      <td>Alice Sebold</td>\n",
       "    </tr>\n",
       "    <tr>\n",
       "      <th>1105</th>\n",
       "      <td>412.0</td>\n",
       "      <td>0060928336</td>\n",
       "      <td>Divine Secrets of the Ya-Ya Sisterhood: A Novel</td>\n",
       "      <td>Rebecca Wells</td>\n",
       "    </tr>\n",
       "    <tr>\n",
       "      <th>748</th>\n",
       "      <td>396.0</td>\n",
       "      <td>0385504209</td>\n",
       "      <td>The Da Vinci Code</td>\n",
       "      <td>Dan Brown</td>\n",
       "    </tr>\n",
       "    <tr>\n",
       "      <th>305</th>\n",
       "      <td>366.0</td>\n",
       "      <td>044023722X</td>\n",
       "      <td>A Painted House</td>\n",
       "      <td>John Grisham</td>\n",
       "    </tr>\n",
       "    <tr>\n",
       "      <th>1922</th>\n",
       "      <td>358.0</td>\n",
       "      <td>067976402X</td>\n",
       "      <td>Snow Falling on Cedars</td>\n",
       "      <td>David Guterson</td>\n",
       "    </tr>\n",
       "    <tr>\n",
       "      <th>2445</th>\n",
       "      <td>349.0</td>\n",
       "      <td>0440214041</td>\n",
       "      <td>The Pelican Brief</td>\n",
       "      <td>John Grisham</td>\n",
       "    </tr>\n",
       "    <tr>\n",
       "      <th>522</th>\n",
       "      <td>340.0</td>\n",
       "      <td>0312195516</td>\n",
       "      <td>The Red Tent (Bestselling Backlist)</td>\n",
       "      <td>Anita Diamant</td>\n",
       "    </tr>\n",
       "    <tr>\n",
       "      <th>67</th>\n",
       "      <td>325.0</td>\n",
       "      <td>0804106304</td>\n",
       "      <td>The Joy Luck Club</td>\n",
       "      <td>Amy Tan</td>\n",
       "    </tr>\n",
       "    <tr>\n",
       "      <th>4430</th>\n",
       "      <td>323.0</td>\n",
       "      <td>0375727345</td>\n",
       "      <td>House of Sand and Fog</td>\n",
       "      <td>Andre Dubus III</td>\n",
       "    </tr>\n",
       "  </tbody>\n",
       "</table>\n",
       "</div>"
      ],
      "text/plain": [
       "      Book-Rating        ISBN  \\\n",
       "26         1921.0  0971880107   \n",
       "408         588.0  0316666343   \n",
       "1105        412.0  0060928336   \n",
       "748         396.0  0385504209   \n",
       "305         366.0  044023722X   \n",
       "1922        358.0  067976402X   \n",
       "2445        349.0  0440214041   \n",
       "522         340.0  0312195516   \n",
       "67          325.0  0804106304   \n",
       "4430        323.0  0375727345   \n",
       "\n",
       "                                           Book-Title      Book-Author  \n",
       "26                                        Wild Animus     Rich Shapero  \n",
       "408                         The Lovely Bones: A Novel     Alice Sebold  \n",
       "1105  Divine Secrets of the Ya-Ya Sisterhood: A Novel    Rebecca Wells  \n",
       "748                                 The Da Vinci Code        Dan Brown  \n",
       "305                                   A Painted House     John Grisham  \n",
       "1922                           Snow Falling on Cedars   David Guterson  \n",
       "2445                                The Pelican Brief     John Grisham  \n",
       "522               The Red Tent (Bestselling Backlist)    Anita Diamant  \n",
       "67                                  The Joy Luck Club          Amy Tan  \n",
       "4430                            House of Sand and Fog  Andre Dubus III  "
      ]
     },
     "execution_count": 832,
     "metadata": {},
     "output_type": "execute_result"
    }
   ],
   "source": [
    "ratings_pop = pd.DataFrame(imp.groupby(['ISBN'])['Book-Rating'].sum())\n",
    "top10 = ratings_pop.sort_values('Book-Rating', ascending=False).head(10)\n",
    "top10.merge(books, left_index=True, right_on = 'ISBN')"
   ]
  },
  {
   "cell_type": "code",
   "execution_count": 833,
   "metadata": {},
   "outputs": [
    {
     "data": {
      "image/png": "[encoded data removed]",
      "text/plain": [
       "<Figure size 432x288 with 2 Axes>"
      ]
     },
     "metadata": {
      "needs_background": "light"
     },
     "output_type": "display_data"
    }
   ],
   "source": [
    "imp_small = reduceRates(imp, 100, 50)"
   ]
  },
  {
   "cell_type": "code",
   "execution_count": 834,
   "metadata": {},
   "outputs": [
    {
     "name": "stdout",
     "output_type": "stream",
     "text": [
      "Matrix shape (1071, 1073)\n"
     ]
    }
   ],
   "source": [
    "ratings_matrix = makeMatrix(imp_small)"
   ]
  },
  {
   "cell_type": "code",
   "execution_count": 835,
   "metadata": {},
   "outputs": [
    {
     "name": "stdout",
     "output_type": "stream",
     "text": [
      "[0.35877996 0.33479867 0.33110009 0.30135791 0.28309318 0.28091998]\n",
      "1 Where the Heart Is (Oprah's Book Club (Paperback)) (expected rating 1.00)\n",
      "2 The Notebook (expected rating 1.00)\n",
      "3 The Runaway Jury (expected rating 1.00)\n",
      "4 The Perfect Storm : A True Story of Men Against the Sea (expected rating 1.00)\n",
      "5 The Summons (expected rating 0.85)\n",
      "6 The Testament (expected rating 0.85)\n",
      "7 Hannibal (expected rating 0.85)\n",
      "8 Fine Things (expected rating 0.85)\n",
      "9 The Last Precinct (expected rating 0.85)\n",
      "10 Move to Strike (expected rating 0.85)\n"
     ]
    }
   ],
   "source": [
    "recommendbook(11676, ratings_matrix)"
   ]
  },
  {
   "cell_type": "code",
   "execution_count": 836,
   "metadata": {},
   "outputs": [],
   "source": [
    "def printUserBooks(user_id):\n",
    "    user_loc = ratings_matrix.index.get_loc(user_id)\n",
    "    user_vec = ratings_matrix.iloc[user_loc, :].values.reshape(1, -1).flatten()\n",
    "    print(user_vec)\n",
    "    \n",
    "    for i, rate in enumerate(user_vec):\n",
    "        if rate == 1:\n",
    "            isbn = ratings_matrix.columns[i]\n",
    "            print(findTitle(isbn))"
   ]
  },
  {
   "cell_type": "code",
   "execution_count": 837,
   "metadata": {},
   "outputs": [
    {
     "name": "stdout",
     "output_type": "stream",
     "text": [
      "[0. 0. 0. ... 0. 0. 0.]\n",
      "She Went All the Way (Avon Light Contemporary Romances)\n",
      "The Boy Next Door\n",
      "Divine Secrets of the Ya-Ya Sisterhood : A Novel\n",
      "Stupid White Men ...and Other Sorry Excuses for the State of the Nation!\n",
      "The Bean Trees\n",
      "Animal Dreams\n",
      "Divine Secrets of the Ya-Ya Sisterhood: A Novel\n",
      "The Poisonwood Bible: A Novel\n",
      "Daughter of Fortune\n",
      "Bel Canto: A Novel\n",
      "Prodigal Summer: A Novel\n",
      "Little Altars Everywhere: A Novel\n",
      "The God of Small Things\n",
      "Moment of Truth\n",
      "A Theory of Relativity\n",
      "Mistaken Identity\n",
      "The Saving Graces: A Novel\n",
      "The Bean Trees\n",
      "The Wailing Wind\n",
      "Memoirs of a Geisha Uk\n",
      "Lake Wobegon days\n",
      "Of Mice and Men (Penguin Great Books of the 20th Century)\n",
      "Songs in Ordinary Time (Oprah's Book Club (Paperback))\n",
      "Bridget Jones's Diary\n",
      "Year of Wonders\n",
      "The Secret Life of Bees\n",
      "The Eyre Affair: A Novel\n",
      "Where or When  : A Novel\n",
      "The Crimson Petal and the White\n",
      "Mrs Dalloway\n"
     ]
    },
    {
     "ename": "KeyboardInterrupt",
     "evalue": "",
     "output_type": "error",
     "traceback": [
      "\u001b[0;31m---------------------------------------------------------------------------\u001b[0m",
      "\u001b[0;31mKeyboardInterrupt\u001b[0m                         Traceback (most recent call last)",
      "\u001b[0;32m<ipython-input-837-404392ac6db5>\u001b[0m in \u001b[0;36m<module>\u001b[0;34m\u001b[0m\n\u001b[0;32m----> 1\u001b[0;31m \u001b[0mprintUserBooks\u001b[0m\u001b[0;34m(\u001b[0m\u001b[0;36m11676\u001b[0m\u001b[0;34m)\u001b[0m\u001b[0;34m\u001b[0m\u001b[0;34m\u001b[0m\u001b[0m\n\u001b[0m",
      "\u001b[0;32m<ipython-input-836-d8f08101b0a7>\u001b[0m in \u001b[0;36mprintUserBooks\u001b[0;34m(user_id)\u001b[0m\n\u001b[1;32m      7\u001b[0m         \u001b[0;32mif\u001b[0m \u001b[0mrate\u001b[0m \u001b[0;34m==\u001b[0m \u001b[0;36m1\u001b[0m\u001b[0;34m:\u001b[0m\u001b[0;34m\u001b[0m\u001b[0;34m\u001b[0m\u001b[0m\n\u001b[1;32m      8\u001b[0m             \u001b[0misbn\u001b[0m \u001b[0;34m=\u001b[0m \u001b[0mratings_matrix\u001b[0m\u001b[0;34m.\u001b[0m\u001b[0mcolumns\u001b[0m\u001b[0;34m[\u001b[0m\u001b[0mi\u001b[0m\u001b[0;34m]\u001b[0m\u001b[0;34m\u001b[0m\u001b[0;34m\u001b[0m\u001b[0m\n\u001b[0;32m----> 9\u001b[0;31m             \u001b[0mprint\u001b[0m\u001b[0;34m(\u001b[0m\u001b[0mfindTitle\u001b[0m\u001b[0;34m(\u001b[0m\u001b[0misbn\u001b[0m\u001b[0;34m)\u001b[0m\u001b[0;34m)\u001b[0m\u001b[0;34m\u001b[0m\u001b[0;34m\u001b[0m\u001b[0m\n\u001b[0m",
      "\u001b[0;32m<ipython-input-828-33888de1a536>\u001b[0m in \u001b[0;36mfindTitle\u001b[0;34m(isbn)\u001b[0m\n\u001b[1;32m      9\u001b[0m \u001b[0;34m\u001b[0m\u001b[0m\n\u001b[1;32m     10\u001b[0m \u001b[0;32mdef\u001b[0m \u001b[0mfindTitle\u001b[0m\u001b[0;34m(\u001b[0m\u001b[0misbn\u001b[0m\u001b[0;34m)\u001b[0m\u001b[0;34m:\u001b[0m\u001b[0;34m\u001b[0m\u001b[0;34m\u001b[0m\u001b[0m\n\u001b[0;32m---> 11\u001b[0;31m     \u001b[0mp\u001b[0m \u001b[0;34m=\u001b[0m \u001b[0mbooks\u001b[0m\u001b[0;34m.\u001b[0m\u001b[0mset_index\u001b[0m\u001b[0;34m(\u001b[0m\u001b[0;34m'ISBN'\u001b[0m\u001b[0;34m)\u001b[0m\u001b[0;34m.\u001b[0m\u001b[0mindex\u001b[0m\u001b[0;34m.\u001b[0m\u001b[0mget_loc\u001b[0m\u001b[0;34m(\u001b[0m\u001b[0misbn\u001b[0m\u001b[0;34m)\u001b[0m\u001b[0;34m\u001b[0m\u001b[0;34m\u001b[0m\u001b[0m\n\u001b[0m\u001b[1;32m     12\u001b[0m     \u001b[0;32mreturn\u001b[0m \u001b[0mbooks\u001b[0m\u001b[0;34m[\u001b[0m\u001b[0;34m'Book-Title'\u001b[0m\u001b[0;34m]\u001b[0m\u001b[0;34m[\u001b[0m\u001b[0mp\u001b[0m\u001b[0;34m]\u001b[0m\u001b[0;34m\u001b[0m\u001b[0;34m\u001b[0m\u001b[0m\n",
      "\u001b[0;32m~/anaconda3/lib/python3.7/site-packages/pandas/core/indexes/base.py\u001b[0m in \u001b[0;36mget_loc\u001b[0;34m(self, key, method, tolerance)\u001b[0m\n\u001b[1;32m   2887\u001b[0m             \u001b[0mcasted_key\u001b[0m \u001b[0;34m=\u001b[0m \u001b[0mself\u001b[0m\u001b[0;34m.\u001b[0m\u001b[0m_maybe_cast_indexer\u001b[0m\u001b[0;34m(\u001b[0m\u001b[0mkey\u001b[0m\u001b[0;34m)\u001b[0m\u001b[0;34m\u001b[0m\u001b[0;34m\u001b[0m\u001b[0m\n\u001b[1;32m   2888\u001b[0m             \u001b[0;32mtry\u001b[0m\u001b[0;34m:\u001b[0m\u001b[0;34m\u001b[0m\u001b[0;34m\u001b[0m\u001b[0m\n\u001b[0;32m-> 2889\u001b[0;31m                 \u001b[0;32mreturn\u001b[0m \u001b[0mself\u001b[0m\u001b[0;34m.\u001b[0m\u001b[0m_engine\u001b[0m\u001b[0;34m.\u001b[0m\u001b[0mget_loc\u001b[0m\u001b[0;34m(\u001b[0m\u001b[0mcasted_key\u001b[0m\u001b[0;34m)\u001b[0m\u001b[0;34m\u001b[0m\u001b[0;34m\u001b[0m\u001b[0m\n\u001b[0m\u001b[1;32m   2890\u001b[0m             \u001b[0;32mexcept\u001b[0m \u001b[0mKeyError\u001b[0m \u001b[0;32mas\u001b[0m \u001b[0merr\u001b[0m\u001b[0;34m:\u001b[0m\u001b[0;34m\u001b[0m\u001b[0;34m\u001b[0m\u001b[0m\n\u001b[1;32m   2891\u001b[0m                 \u001b[0;32mraise\u001b[0m \u001b[0mKeyError\u001b[0m\u001b[0;34m(\u001b[0m\u001b[0mkey\u001b[0m\u001b[0;34m)\u001b[0m \u001b[0;32mfrom\u001b[0m \u001b[0merr\u001b[0m\u001b[0;34m\u001b[0m\u001b[0;34m\u001b[0m\u001b[0m\n",
      "\u001b[0;31mKeyboardInterrupt\u001b[0m: "
     ]
    }
   ],
   "source": [
    "printUserBooks(11676)"
   ]
  },
  {
   "cell_type": "code",
   "execution_count": 769,
   "metadata": {},
   "outputs": [],
   "source": [
    "#for a given user,\n",
    "#remove 10 books, \n",
    "#then try to recommend books for that user\n",
    "#then check to see if any/all of those books where ones that were removed\n"
   ]
  },
  {
   "cell_type": "code",
   "execution_count": null,
   "metadata": {},
   "outputs": [],
   "source": []
  }
 ],
 "metadata": {
  "kernelspec": {
   "display_name": "Python 3",
   "language": "python",
   "name": "python3"
  },
  "language_info": {
   "codemirror_mode": {
    "name": "ipython",
    "version": 3
   },
   "file_extension": ".py",
   "mimetype": "text/x-python",
   "name": "python",
   "nbconvert_exporter": "python",
   "pygments_lexer": "ipython3",
   "version": "3.7.4"
  }
 },
 "nbformat": 4,
 "nbformat_minor": 2
}
